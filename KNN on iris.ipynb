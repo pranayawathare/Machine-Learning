{
 "cells": [
  {
   "cell_type": "code",
   "execution_count": 1,
   "metadata": {},
   "outputs": [],
   "source": [
    "import pandas as pd\n",
    "import numpy as np\n",
    "from sklearn import metrics\n",
    "from sklearn.metrics import confusion_matrix\n",
    "from sklearn.neighbors import KNeighborsClassifier\n",
    "from sklearn.metrics import classification_report, confusion_matrix\n",
    "from sklearn.metrics import accuracy_score\n",
    "import matplotlib.pyplot as plt"
   ]
  },
  {
   "cell_type": "code",
   "execution_count": 2,
   "metadata": {},
   "outputs": [
    {
     "data": {
      "text/html": [
       "<div>\n",
       "<style scoped>\n",
       "    .dataframe tbody tr th:only-of-type {\n",
       "        vertical-align: middle;\n",
       "    }\n",
       "\n",
       "    .dataframe tbody tr th {\n",
       "        vertical-align: top;\n",
       "    }\n",
       "\n",
       "    .dataframe thead th {\n",
       "        text-align: right;\n",
       "    }\n",
       "</style>\n",
       "<table border=\"1\" class=\"dataframe\">\n",
       "  <thead>\n",
       "    <tr style=\"text-align: right;\">\n",
       "      <th></th>\n",
       "      <th>Id</th>\n",
       "      <th>SepalLengthCm</th>\n",
       "      <th>SepalWidthCm</th>\n",
       "      <th>PetalLengthCm</th>\n",
       "      <th>PetalWidthCm</th>\n",
       "      <th>Species</th>\n",
       "    </tr>\n",
       "  </thead>\n",
       "  <tbody>\n",
       "    <tr>\n",
       "      <td>0</td>\n",
       "      <td>1</td>\n",
       "      <td>5.1</td>\n",
       "      <td>3.5</td>\n",
       "      <td>1.4</td>\n",
       "      <td>0.2</td>\n",
       "      <td>Iris-setosa</td>\n",
       "    </tr>\n",
       "    <tr>\n",
       "      <td>1</td>\n",
       "      <td>2</td>\n",
       "      <td>4.9</td>\n",
       "      <td>3.0</td>\n",
       "      <td>1.4</td>\n",
       "      <td>0.2</td>\n",
       "      <td>Iris-setosa</td>\n",
       "    </tr>\n",
       "    <tr>\n",
       "      <td>2</td>\n",
       "      <td>3</td>\n",
       "      <td>4.7</td>\n",
       "      <td>3.2</td>\n",
       "      <td>1.3</td>\n",
       "      <td>0.2</td>\n",
       "      <td>Iris-setosa</td>\n",
       "    </tr>\n",
       "    <tr>\n",
       "      <td>3</td>\n",
       "      <td>4</td>\n",
       "      <td>4.6</td>\n",
       "      <td>3.1</td>\n",
       "      <td>1.5</td>\n",
       "      <td>0.2</td>\n",
       "      <td>Iris-setosa</td>\n",
       "    </tr>\n",
       "    <tr>\n",
       "      <td>4</td>\n",
       "      <td>5</td>\n",
       "      <td>5.0</td>\n",
       "      <td>3.6</td>\n",
       "      <td>1.4</td>\n",
       "      <td>0.2</td>\n",
       "      <td>Iris-setosa</td>\n",
       "    </tr>\n",
       "  </tbody>\n",
       "</table>\n",
       "</div>"
      ],
      "text/plain": [
       "   Id  SepalLengthCm  SepalWidthCm  PetalLengthCm  PetalWidthCm      Species\n",
       "0   1            5.1           3.5            1.4           0.2  Iris-setosa\n",
       "1   2            4.9           3.0            1.4           0.2  Iris-setosa\n",
       "2   3            4.7           3.2            1.3           0.2  Iris-setosa\n",
       "3   4            4.6           3.1            1.5           0.2  Iris-setosa\n",
       "4   5            5.0           3.6            1.4           0.2  Iris-setosa"
      ]
     },
     "execution_count": 2,
     "metadata": {},
     "output_type": "execute_result"
    }
   ],
   "source": [
    "iris = pd.read_csv(\"D:\\\\pa\\\\Iris.csv\")\n",
    "iris.head()"
   ]
  },
  {
   "cell_type": "code",
   "execution_count": 3,
   "metadata": {},
   "outputs": [
    {
     "data": {
      "text/html": [
       "<div>\n",
       "<style scoped>\n",
       "    .dataframe tbody tr th:only-of-type {\n",
       "        vertical-align: middle;\n",
       "    }\n",
       "\n",
       "    .dataframe tbody tr th {\n",
       "        vertical-align: top;\n",
       "    }\n",
       "\n",
       "    .dataframe thead th {\n",
       "        text-align: right;\n",
       "    }\n",
       "</style>\n",
       "<table border=\"1\" class=\"dataframe\">\n",
       "  <thead>\n",
       "    <tr style=\"text-align: right;\">\n",
       "      <th></th>\n",
       "      <th>Id</th>\n",
       "      <th>SepalLengthCm</th>\n",
       "      <th>SepalWidthCm</th>\n",
       "      <th>PetalLengthCm</th>\n",
       "      <th>PetalWidthCm</th>\n",
       "    </tr>\n",
       "  </thead>\n",
       "  <tbody>\n",
       "    <tr>\n",
       "      <td>count</td>\n",
       "      <td>150.000000</td>\n",
       "      <td>150.000000</td>\n",
       "      <td>150.000000</td>\n",
       "      <td>150.000000</td>\n",
       "      <td>150.000000</td>\n",
       "    </tr>\n",
       "    <tr>\n",
       "      <td>mean</td>\n",
       "      <td>75.500000</td>\n",
       "      <td>5.843333</td>\n",
       "      <td>3.054000</td>\n",
       "      <td>3.758667</td>\n",
       "      <td>1.198667</td>\n",
       "    </tr>\n",
       "    <tr>\n",
       "      <td>std</td>\n",
       "      <td>43.445368</td>\n",
       "      <td>0.828066</td>\n",
       "      <td>0.433594</td>\n",
       "      <td>1.764420</td>\n",
       "      <td>0.763161</td>\n",
       "    </tr>\n",
       "    <tr>\n",
       "      <td>min</td>\n",
       "      <td>1.000000</td>\n",
       "      <td>4.300000</td>\n",
       "      <td>2.000000</td>\n",
       "      <td>1.000000</td>\n",
       "      <td>0.100000</td>\n",
       "    </tr>\n",
       "    <tr>\n",
       "      <td>25%</td>\n",
       "      <td>38.250000</td>\n",
       "      <td>5.100000</td>\n",
       "      <td>2.800000</td>\n",
       "      <td>1.600000</td>\n",
       "      <td>0.300000</td>\n",
       "    </tr>\n",
       "    <tr>\n",
       "      <td>50%</td>\n",
       "      <td>75.500000</td>\n",
       "      <td>5.800000</td>\n",
       "      <td>3.000000</td>\n",
       "      <td>4.350000</td>\n",
       "      <td>1.300000</td>\n",
       "    </tr>\n",
       "    <tr>\n",
       "      <td>75%</td>\n",
       "      <td>112.750000</td>\n",
       "      <td>6.400000</td>\n",
       "      <td>3.300000</td>\n",
       "      <td>5.100000</td>\n",
       "      <td>1.800000</td>\n",
       "    </tr>\n",
       "    <tr>\n",
       "      <td>max</td>\n",
       "      <td>150.000000</td>\n",
       "      <td>7.900000</td>\n",
       "      <td>4.400000</td>\n",
       "      <td>6.900000</td>\n",
       "      <td>2.500000</td>\n",
       "    </tr>\n",
       "  </tbody>\n",
       "</table>\n",
       "</div>"
      ],
      "text/plain": [
       "               Id  SepalLengthCm  SepalWidthCm  PetalLengthCm  PetalWidthCm\n",
       "count  150.000000     150.000000    150.000000     150.000000    150.000000\n",
       "mean    75.500000       5.843333      3.054000       3.758667      1.198667\n",
       "std     43.445368       0.828066      0.433594       1.764420      0.763161\n",
       "min      1.000000       4.300000      2.000000       1.000000      0.100000\n",
       "25%     38.250000       5.100000      2.800000       1.600000      0.300000\n",
       "50%     75.500000       5.800000      3.000000       4.350000      1.300000\n",
       "75%    112.750000       6.400000      3.300000       5.100000      1.800000\n",
       "max    150.000000       7.900000      4.400000       6.900000      2.500000"
      ]
     },
     "execution_count": 3,
     "metadata": {},
     "output_type": "execute_result"
    }
   ],
   "source": [
    "iris.describe()"
   ]
  },
  {
   "cell_type": "code",
   "execution_count": 4,
   "metadata": {},
   "outputs": [
    {
     "data": {
      "text/plain": [
       "Id               0\n",
       "SepalLengthCm    0\n",
       "SepalWidthCm     0\n",
       "PetalLengthCm    0\n",
       "PetalWidthCm     0\n",
       "Species          0\n",
       "dtype: int64"
      ]
     },
     "execution_count": 4,
     "metadata": {},
     "output_type": "execute_result"
    }
   ],
   "source": [
    "iris.isnull().sum()"
   ]
  },
  {
   "cell_type": "code",
   "execution_count": 5,
   "metadata": {},
   "outputs": [],
   "source": [
    "X = iris[['SepalLengthCm','SepalWidthCm','PetalLengthCm','PetalWidthCm']]\n",
    "Y = iris[['Species']]"
   ]
  },
  {
   "cell_type": "code",
   "execution_count": 6,
   "metadata": {},
   "outputs": [
    {
     "name": "stdout",
     "output_type": "stream",
     "text": [
      "(120, 4)\n",
      "(30, 4)\n",
      "(120, 1)\n",
      "(30, 1)\n"
     ]
    }
   ],
   "source": [
    "from sklearn.model_selection import train_test_split\n",
    "X_train, X_test, Y_train, Y_test = train_test_split(X, Y, test_size = 0.2, random_state=0)\n",
    "print(X_train.shape)\n",
    "print(X_test.shape)\n",
    "print(Y_train.shape)\n",
    "print(Y_test.shape)\n"
   ]
  },
  {
   "cell_type": "code",
   "execution_count": 7,
   "metadata": {},
   "outputs": [
    {
     "data": {
      "text/plain": [
       "5.477225575051661"
      ]
     },
     "execution_count": 7,
     "metadata": {},
     "output_type": "execute_result"
    }
   ],
   "source": [
    "import math\n",
    "math.sqrt(len(Y_test))\n",
    "\n",
    "# (so bcoz of that we take n_neighbors =5)"
   ]
  },
  {
   "cell_type": "code",
   "execution_count": 8,
   "metadata": {},
   "outputs": [
    {
     "name": "stderr",
     "output_type": "stream",
     "text": [
      "C:\\Users\\Admin\\Anaconda3\\lib\\site-packages\\ipykernel_launcher.py:2: DataConversionWarning: A column-vector y was passed when a 1d array was expected. Please change the shape of y to (n_samples, ), for example using ravel().\n",
      "  \n"
     ]
    },
    {
     "data": {
      "text/plain": [
       "KNeighborsClassifier(algorithm='auto', leaf_size=30, metric='minkowski',\n",
       "                     metric_params=None, n_jobs=None, n_neighbors=5, p=2,\n",
       "                     weights='uniform')"
      ]
     },
     "execution_count": 8,
     "metadata": {},
     "output_type": "execute_result"
    }
   ],
   "source": [
    "classifier=KNeighborsClassifier(n_neighbors=5)\n",
    "classifier.fit(X_train,Y_train)"
   ]
  },
  {
   "cell_type": "code",
   "execution_count": 9,
   "metadata": {},
   "outputs": [],
   "source": [
    "#make  prediction for test data\n",
    "y_pred=classifier.predict(X_test)"
   ]
  },
  {
   "cell_type": "code",
   "execution_count": 10,
   "metadata": {},
   "outputs": [
    {
     "name": "stdout",
     "output_type": "stream",
     "text": [
      "[[11  0  0]\n",
      " [ 0 12  1]\n",
      " [ 0  0  6]]\n"
     ]
    }
   ],
   "source": [
    "print(confusion_matrix(Y_test,y_pred))"
   ]
  },
  {
   "cell_type": "code",
   "execution_count": 11,
   "metadata": {},
   "outputs": [
    {
     "name": "stdout",
     "output_type": "stream",
     "text": [
      "Test Accuracy:0.9667\n"
     ]
    }
   ],
   "source": [
    "accur=accuracy_score(Y_test,y_pred)\n",
    "print(\"Test Accuracy:{:.4f}\".format(accur))"
   ]
  },
  {
   "cell_type": "code",
   "execution_count": 12,
   "metadata": {},
   "outputs": [],
   "source": [
    "from sklearn.preprocessing import StandardScaler\n",
    "X1 = iris.iloc[:, :-1].values\n",
    "scaler=StandardScaler()"
   ]
  },
  {
   "cell_type": "code",
   "execution_count": 13,
   "metadata": {},
   "outputs": [],
   "source": [
    "norm=scaler.fit_transform(X1)\n",
    "x=norm"
   ]
  },
  {
   "cell_type": "code",
   "execution_count": 14,
   "metadata": {},
   "outputs": [
    {
     "name": "stdout",
     "output_type": "stream",
     "text": [
      "[[-1.72054204e+00 -9.00681170e-01  1.03205722e+00 -1.34127240e+00\n",
      "  -1.31297673e+00]\n",
      " [-1.69744751e+00 -1.14301691e+00 -1.24957601e-01 -1.34127240e+00\n",
      "  -1.31297673e+00]\n",
      " [-1.67435299e+00 -1.38535265e+00  3.37848329e-01 -1.39813811e+00\n",
      "  -1.31297673e+00]\n",
      " [-1.65125846e+00 -1.50652052e+00  1.06445364e-01 -1.28440670e+00\n",
      "  -1.31297673e+00]\n",
      " [-1.62816394e+00 -1.02184904e+00  1.26346019e+00 -1.34127240e+00\n",
      "  -1.31297673e+00]\n",
      " [-1.60506942e+00 -5.37177559e-01  1.95766909e+00 -1.17067529e+00\n",
      "  -1.05003079e+00]\n",
      " [-1.58197489e+00 -1.50652052e+00  8.00654259e-01 -1.34127240e+00\n",
      "  -1.18150376e+00]\n",
      " [-1.55888037e+00 -1.02184904e+00  8.00654259e-01 -1.28440670e+00\n",
      "  -1.31297673e+00]\n",
      " [-1.53578584e+00 -1.74885626e+00 -3.56360566e-01 -1.34127240e+00\n",
      "  -1.31297673e+00]\n",
      " [-1.51269132e+00 -1.14301691e+00  1.06445364e-01 -1.28440670e+00\n",
      "  -1.44444970e+00]\n",
      " [-1.48959680e+00 -5.37177559e-01  1.49486315e+00 -1.28440670e+00\n",
      "  -1.31297673e+00]\n",
      " [-1.46650227e+00 -1.26418478e+00  8.00654259e-01 -1.22754100e+00\n",
      "  -1.31297673e+00]\n",
      " [-1.44340775e+00 -1.26418478e+00 -1.24957601e-01 -1.34127240e+00\n",
      "  -1.44444970e+00]\n",
      " [-1.42031323e+00 -1.87002413e+00 -1.24957601e-01 -1.51186952e+00\n",
      "  -1.44444970e+00]\n",
      " [-1.39721870e+00 -5.25060772e-02  2.18907205e+00 -1.45500381e+00\n",
      "  -1.31297673e+00]\n",
      " [-1.37412418e+00 -1.73673948e-01  3.11468391e+00 -1.28440670e+00\n",
      "  -1.05003079e+00]\n",
      " [-1.35102965e+00 -5.37177559e-01  1.95766909e+00 -1.39813811e+00\n",
      "  -1.05003079e+00]\n",
      " [-1.32793513e+00 -9.00681170e-01  1.03205722e+00 -1.34127240e+00\n",
      "  -1.18150376e+00]\n",
      " [-1.30484061e+00 -1.73673948e-01  1.72626612e+00 -1.17067529e+00\n",
      "  -1.18150376e+00]\n",
      " [-1.28174608e+00 -9.00681170e-01  1.72626612e+00 -1.28440670e+00\n",
      "  -1.18150376e+00]\n",
      " [-1.25865156e+00 -5.37177559e-01  8.00654259e-01 -1.17067529e+00\n",
      "  -1.31297673e+00]\n",
      " [-1.23555703e+00 -9.00681170e-01  1.49486315e+00 -1.28440670e+00\n",
      "  -1.05003079e+00]\n",
      " [-1.21246251e+00 -1.50652052e+00  1.26346019e+00 -1.56873522e+00\n",
      "  -1.31297673e+00]\n",
      " [-1.18936799e+00 -9.00681170e-01  5.69251294e-01 -1.17067529e+00\n",
      "  -9.18557817e-01]\n",
      " [-1.16627346e+00 -1.26418478e+00  8.00654259e-01 -1.05694388e+00\n",
      "  -1.31297673e+00]\n",
      " [-1.14317894e+00 -1.02184904e+00 -1.24957601e-01 -1.22754100e+00\n",
      "  -1.31297673e+00]\n",
      " [-1.12008441e+00 -1.02184904e+00  8.00654259e-01 -1.22754100e+00\n",
      "  -1.05003079e+00]\n",
      " [-1.09698989e+00 -7.79513300e-01  1.03205722e+00 -1.28440670e+00\n",
      "  -1.31297673e+00]\n",
      " [-1.07389537e+00 -7.79513300e-01  8.00654259e-01 -1.34127240e+00\n",
      "  -1.31297673e+00]\n",
      " [-1.05080084e+00 -1.38535265e+00  3.37848329e-01 -1.22754100e+00\n",
      "  -1.31297673e+00]\n",
      " [-1.02770632e+00 -1.26418478e+00  1.06445364e-01 -1.22754100e+00\n",
      "  -1.31297673e+00]\n",
      " [-1.00461179e+00 -5.37177559e-01  8.00654259e-01 -1.28440670e+00\n",
      "  -1.05003079e+00]\n",
      " [-9.81517269e-01 -7.79513300e-01  2.42047502e+00 -1.28440670e+00\n",
      "  -1.44444970e+00]\n",
      " [-9.58422745e-01 -4.16009689e-01  2.65187798e+00 -1.34127240e+00\n",
      "  -1.31297673e+00]\n",
      " [-9.35328221e-01 -1.14301691e+00  1.06445364e-01 -1.28440670e+00\n",
      "  -1.44444970e+00]\n",
      " [-9.12233697e-01 -1.02184904e+00  3.37848329e-01 -1.45500381e+00\n",
      "  -1.31297673e+00]\n",
      " [-8.89139173e-01 -4.16009689e-01  1.03205722e+00 -1.39813811e+00\n",
      "  -1.31297673e+00]\n",
      " [-8.66044649e-01 -1.14301691e+00  1.06445364e-01 -1.28440670e+00\n",
      "  -1.44444970e+00]\n",
      " [-8.42950125e-01 -1.74885626e+00 -1.24957601e-01 -1.39813811e+00\n",
      "  -1.31297673e+00]\n",
      " [-8.19855601e-01 -9.00681170e-01  8.00654259e-01 -1.28440670e+00\n",
      "  -1.31297673e+00]\n",
      " [-7.96761077e-01 -1.02184904e+00  1.03205722e+00 -1.39813811e+00\n",
      "  -1.18150376e+00]\n",
      " [-7.73666553e-01 -1.62768839e+00 -1.74477836e+00 -1.39813811e+00\n",
      "  -1.18150376e+00]\n",
      " [-7.50572030e-01 -1.74885626e+00  3.37848329e-01 -1.39813811e+00\n",
      "  -1.31297673e+00]\n",
      " [-7.27477506e-01 -1.02184904e+00  1.03205722e+00 -1.22754100e+00\n",
      "  -7.87084847e-01]\n",
      " [-7.04382982e-01 -9.00681170e-01  1.72626612e+00 -1.05694388e+00\n",
      "  -1.05003079e+00]\n",
      " [-6.81288458e-01 -1.26418478e+00 -1.24957601e-01 -1.34127240e+00\n",
      "  -1.18150376e+00]\n",
      " [-6.58193934e-01 -9.00681170e-01  1.72626612e+00 -1.22754100e+00\n",
      "  -1.31297673e+00]\n",
      " [-6.35099410e-01 -1.50652052e+00  3.37848329e-01 -1.34127240e+00\n",
      "  -1.31297673e+00]\n",
      " [-6.12004886e-01 -6.58345429e-01  1.49486315e+00 -1.28440670e+00\n",
      "  -1.31297673e+00]\n",
      " [-5.88910362e-01 -1.02184904e+00  5.69251294e-01 -1.34127240e+00\n",
      "  -1.31297673e+00]\n",
      " [-5.65815838e-01  1.40150837e+00  3.37848329e-01  5.35295827e-01\n",
      "   2.64698913e-01]\n",
      " [-5.42721314e-01  6.74501145e-01  3.37848329e-01  4.21564419e-01\n",
      "   3.96171883e-01]\n",
      " [-5.19626790e-01  1.28034050e+00  1.06445364e-01  6.49027235e-01\n",
      "   3.96171883e-01]\n",
      " [-4.96532266e-01 -4.16009689e-01 -1.74477836e+00  1.37235899e-01\n",
      "   1.33225943e-01]\n",
      " [-4.73437742e-01  7.95669016e-01 -5.87763531e-01  4.78430123e-01\n",
      "   3.96171883e-01]\n",
      " [-4.50343218e-01 -1.73673948e-01 -5.87763531e-01  4.21564419e-01\n",
      "   1.33225943e-01]\n",
      " [-4.27248694e-01  5.53333275e-01  5.69251294e-01  5.35295827e-01\n",
      "   5.27644853e-01]\n",
      " [-4.04154170e-01 -1.14301691e+00 -1.51337539e+00 -2.60824029e-01\n",
      "  -2.61192967e-01]\n",
      " [-3.81059646e-01  9.16836886e-01 -3.56360566e-01  4.78430123e-01\n",
      "   1.33225943e-01]\n",
      " [-3.57965122e-01 -7.79513300e-01 -8.19166497e-01  8.03701950e-02\n",
      "   2.64698913e-01]\n",
      " [-3.34870598e-01 -1.02184904e+00 -2.43898725e+00 -1.47092621e-01\n",
      "  -2.61192967e-01]\n",
      " [-3.11776074e-01  6.86617933e-02 -1.24957601e-01  2.50967307e-01\n",
      "   3.96171883e-01]\n",
      " [-2.88681550e-01  1.89829664e-01 -1.97618132e+00  1.37235899e-01\n",
      "  -2.61192967e-01]\n",
      " [-2.65587026e-01  3.10997534e-01 -3.56360566e-01  5.35295827e-01\n",
      "   2.64698913e-01]\n",
      " [-2.42492502e-01 -2.94841818e-01 -3.56360566e-01 -9.02269170e-02\n",
      "   1.33225943e-01]\n",
      " [-2.19397978e-01  1.03800476e+00  1.06445364e-01  3.64698715e-01\n",
      "   2.64698913e-01]\n",
      " [-1.96303454e-01 -2.94841818e-01 -1.24957601e-01  4.21564419e-01\n",
      "   3.96171883e-01]\n",
      " [-1.73208930e-01 -5.25060772e-02 -8.19166497e-01  1.94101603e-01\n",
      "  -2.61192967e-01]\n",
      " [-1.50114406e-01  4.32165405e-01 -1.97618132e+00  4.21564419e-01\n",
      "   3.96171883e-01]\n",
      " [-1.27019882e-01 -2.94841818e-01 -1.28197243e+00  8.03701950e-02\n",
      "  -1.29719997e-01]\n",
      " [-1.03925358e-01  6.86617933e-02  3.37848329e-01  5.92161531e-01\n",
      "   7.90590793e-01]\n",
      " [-8.08308339e-02  3.10997534e-01 -5.87763531e-01  1.37235899e-01\n",
      "   1.33225943e-01]\n",
      " [-5.77363100e-02  5.53333275e-01 -1.28197243e+00  6.49027235e-01\n",
      "   3.96171883e-01]\n",
      " [-3.46417860e-02  3.10997534e-01 -5.87763531e-01  5.35295827e-01\n",
      "   1.75297293e-03]\n",
      " [-1.15472620e-02  6.74501145e-01 -3.56360566e-01  3.07833011e-01\n",
      "   1.33225943e-01]\n",
      " [ 1.15472620e-02  9.16836886e-01 -1.24957601e-01  3.64698715e-01\n",
      "   2.64698913e-01]\n",
      " [ 3.46417860e-02  1.15917263e+00 -5.87763531e-01  5.92161531e-01\n",
      "   2.64698913e-01]\n",
      " [ 5.77363100e-02  1.03800476e+00 -1.24957601e-01  7.05892939e-01\n",
      "   6.59117823e-01]\n",
      " [ 8.08308339e-02  1.89829664e-01 -3.56360566e-01  4.21564419e-01\n",
      "   3.96171883e-01]\n",
      " [ 1.03925358e-01 -1.73673948e-01 -1.05056946e+00 -1.47092621e-01\n",
      "  -2.61192967e-01]\n",
      " [ 1.27019882e-01 -4.16009689e-01 -1.51337539e+00  2.35044910e-02\n",
      "  -1.29719997e-01]\n",
      " [ 1.50114406e-01 -4.16009689e-01 -1.51337539e+00 -3.33612130e-02\n",
      "  -2.61192967e-01]\n",
      " [ 1.73208930e-01 -5.25060772e-02 -8.19166497e-01  8.03701950e-02\n",
      "   1.75297293e-03]\n",
      " [ 1.96303454e-01  1.89829664e-01 -8.19166497e-01  7.62758643e-01\n",
      "   5.27644853e-01]\n",
      " [ 2.19397978e-01 -5.37177559e-01 -1.24957601e-01  4.21564419e-01\n",
      "   3.96171883e-01]\n",
      " [ 2.42492502e-01  1.89829664e-01  8.00654259e-01  4.21564419e-01\n",
      "   5.27644853e-01]\n",
      " [ 2.65587026e-01  1.03800476e+00  1.06445364e-01  5.35295827e-01\n",
      "   3.96171883e-01]\n",
      " [ 2.88681550e-01  5.53333275e-01 -1.74477836e+00  3.64698715e-01\n",
      "   1.33225943e-01]\n",
      " [ 3.11776074e-01 -2.94841818e-01 -1.24957601e-01  1.94101603e-01\n",
      "   1.33225943e-01]\n",
      " [ 3.34870598e-01 -4.16009689e-01 -1.28197243e+00  1.37235899e-01\n",
      "   1.33225943e-01]\n",
      " [ 3.57965122e-01 -4.16009689e-01 -1.05056946e+00  3.64698715e-01\n",
      "   1.75297293e-03]\n",
      " [ 3.81059646e-01  3.10997534e-01 -1.24957601e-01  4.78430123e-01\n",
      "   2.64698913e-01]\n",
      " [ 4.04154170e-01 -5.25060772e-02 -1.05056946e+00  1.37235899e-01\n",
      "   1.75297293e-03]\n",
      " [ 4.27248694e-01 -1.02184904e+00 -1.74477836e+00 -2.60824029e-01\n",
      "  -2.61192967e-01]\n",
      " [ 4.50343218e-01 -2.94841818e-01 -8.19166497e-01  2.50967307e-01\n",
      "   1.33225943e-01]\n",
      " [ 4.73437742e-01 -1.73673948e-01 -1.24957601e-01  2.50967307e-01\n",
      "   1.75297293e-03]\n",
      " [ 4.96532266e-01 -1.73673948e-01 -3.56360566e-01  2.50967307e-01\n",
      "   1.33225943e-01]\n",
      " [ 5.19626790e-01  4.32165405e-01 -3.56360566e-01  3.07833011e-01\n",
      "   1.33225943e-01]\n",
      " [ 5.42721314e-01 -9.00681170e-01 -1.28197243e+00 -4.31421141e-01\n",
      "  -1.29719997e-01]\n",
      " [ 5.65815838e-01 -1.73673948e-01 -5.87763531e-01  1.94101603e-01\n",
      "   1.33225943e-01]\n",
      " [ 5.88910362e-01  5.53333275e-01  5.69251294e-01  1.27454998e+00\n",
      "   1.71090158e+00]\n",
      " [ 6.12004886e-01 -5.25060772e-02 -8.19166497e-01  7.62758643e-01\n",
      "   9.22063763e-01]\n",
      " [ 6.35099410e-01  1.52267624e+00 -1.24957601e-01  1.21768427e+00\n",
      "   1.18500970e+00]\n",
      " [ 6.58193934e-01  5.53333275e-01 -3.56360566e-01  1.04708716e+00\n",
      "   7.90590793e-01]\n",
      " [ 6.81288458e-01  7.95669016e-01 -1.24957601e-01  1.16081857e+00\n",
      "   1.31648267e+00]\n",
      " [ 7.04382982e-01  2.12851559e+00 -1.24957601e-01  1.61574420e+00\n",
      "   1.18500970e+00]\n",
      " [ 7.27477506e-01 -1.14301691e+00 -1.28197243e+00  4.21564419e-01\n",
      "   6.59117823e-01]\n",
      " [ 7.50572030e-01  1.76501198e+00 -3.56360566e-01  1.44514709e+00\n",
      "   7.90590793e-01]\n",
      " [ 7.73666553e-01  1.03800476e+00 -1.28197243e+00  1.16081857e+00\n",
      "   7.90590793e-01]\n",
      " [ 7.96761077e-01  1.64384411e+00  1.26346019e+00  1.33141568e+00\n",
      "   1.71090158e+00]\n",
      " [ 8.19855601e-01  7.95669016e-01  3.37848329e-01  7.62758643e-01\n",
      "   1.05353673e+00]\n",
      " [ 8.42950125e-01  6.74501145e-01 -8.19166497e-01  8.76490051e-01\n",
      "   9.22063763e-01]\n",
      " [ 8.66044649e-01  1.15917263e+00 -1.24957601e-01  9.90221459e-01\n",
      "   1.18500970e+00]\n",
      " [ 8.89139173e-01 -1.73673948e-01 -1.28197243e+00  7.05892939e-01\n",
      "   1.05353673e+00]\n",
      " [ 9.12233697e-01 -5.25060772e-02 -5.87763531e-01  7.62758643e-01\n",
      "   1.57942861e+00]\n",
      " [ 9.35328221e-01  6.74501145e-01  3.37848329e-01  8.76490051e-01\n",
      "   1.44795564e+00]\n",
      " [ 9.58422745e-01  7.95669016e-01 -1.24957601e-01  9.90221459e-01\n",
      "   7.90590793e-01]\n",
      " [ 9.81517269e-01  2.24968346e+00  1.72626612e+00  1.67260991e+00\n",
      "   1.31648267e+00]\n",
      " [ 1.00461179e+00  2.24968346e+00 -1.05056946e+00  1.78634131e+00\n",
      "   1.44795564e+00]\n",
      " [ 1.02770632e+00  1.89829664e-01 -1.97618132e+00  7.05892939e-01\n",
      "   3.96171883e-01]\n",
      " [ 1.05080084e+00  1.28034050e+00  3.37848329e-01  1.10395287e+00\n",
      "   1.44795564e+00]\n",
      " [ 1.07389537e+00 -2.94841818e-01 -5.87763531e-01  6.49027235e-01\n",
      "   1.05353673e+00]\n",
      " [ 1.09698989e+00  2.24968346e+00 -5.87763531e-01  1.67260991e+00\n",
      "   1.05353673e+00]\n",
      " [ 1.12008441e+00  5.53333275e-01 -8.19166497e-01  6.49027235e-01\n",
      "   7.90590793e-01]\n",
      " [ 1.14317894e+00  1.03800476e+00  5.69251294e-01  1.10395287e+00\n",
      "   1.18500970e+00]\n",
      " [ 1.16627346e+00  1.64384411e+00  3.37848329e-01  1.27454998e+00\n",
      "   7.90590793e-01]\n",
      " [ 1.18936799e+00  4.32165405e-01 -5.87763531e-01  5.92161531e-01\n",
      "   7.90590793e-01]\n",
      " [ 1.21246251e+00  3.10997534e-01 -1.24957601e-01  6.49027235e-01\n",
      "   7.90590793e-01]\n",
      " [ 1.23555703e+00  6.74501145e-01 -5.87763531e-01  1.04708716e+00\n",
      "   1.18500970e+00]\n",
      " [ 1.25865156e+00  1.64384411e+00 -1.24957601e-01  1.16081857e+00\n",
      "   5.27644853e-01]\n",
      " [ 1.28174608e+00  1.88617985e+00 -5.87763531e-01  1.33141568e+00\n",
      "   9.22063763e-01]\n",
      " [ 1.30484061e+00  2.49201920e+00  1.72626612e+00  1.50201279e+00\n",
      "   1.05353673e+00]\n",
      " [ 1.32793513e+00  6.74501145e-01 -5.87763531e-01  1.04708716e+00\n",
      "   1.31648267e+00]\n",
      " [ 1.35102965e+00  5.53333275e-01 -5.87763531e-01  7.62758643e-01\n",
      "   3.96171883e-01]\n",
      " [ 1.37412418e+00  3.10997534e-01 -1.05056946e+00  1.04708716e+00\n",
      "   2.64698913e-01]\n",
      " [ 1.39721870e+00  2.24968346e+00 -1.24957601e-01  1.33141568e+00\n",
      "   1.44795564e+00]\n",
      " [ 1.42031323e+00  5.53333275e-01  8.00654259e-01  1.04708716e+00\n",
      "   1.57942861e+00]\n",
      " [ 1.44340775e+00  6.74501145e-01  1.06445364e-01  9.90221459e-01\n",
      "   7.90590793e-01]\n",
      " [ 1.46650227e+00  1.89829664e-01 -1.24957601e-01  5.92161531e-01\n",
      "   7.90590793e-01]\n",
      " [ 1.48959680e+00  1.28034050e+00  1.06445364e-01  9.33355755e-01\n",
      "   1.18500970e+00]\n",
      " [ 1.51269132e+00  1.03800476e+00  1.06445364e-01  1.04708716e+00\n",
      "   1.57942861e+00]\n",
      " [ 1.53578584e+00  1.28034050e+00  1.06445364e-01  7.62758643e-01\n",
      "   1.44795564e+00]\n",
      " [ 1.55888037e+00 -5.25060772e-02 -8.19166497e-01  7.62758643e-01\n",
      "   9.22063763e-01]\n",
      " [ 1.58197489e+00  1.15917263e+00  3.37848329e-01  1.21768427e+00\n",
      "   1.44795564e+00]\n",
      " [ 1.60506942e+00  1.03800476e+00  5.69251294e-01  1.10395287e+00\n",
      "   1.71090158e+00]\n",
      " [ 1.62816394e+00  1.03800476e+00 -1.24957601e-01  8.19624347e-01\n",
      "   1.44795564e+00]\n",
      " [ 1.65125846e+00  5.53333275e-01 -1.28197243e+00  7.05892939e-01\n",
      "   9.22063763e-01]\n",
      " [ 1.67435299e+00  7.95669016e-01 -1.24957601e-01  8.19624347e-01\n",
      "   1.05353673e+00]\n",
      " [ 1.69744751e+00  4.32165405e-01  8.00654259e-01  9.33355755e-01\n",
      "   1.44795564e+00]\n",
      " [ 1.72054204e+00  6.86617933e-02 -1.24957601e-01  7.62758643e-01\n",
      "   7.90590793e-01]]\n"
     ]
    }
   ],
   "source": [
    "print(x)"
   ]
  },
  {
   "cell_type": "code",
   "execution_count": 15,
   "metadata": {},
   "outputs": [
    {
     "name": "stdout",
     "output_type": "stream",
     "text": [
      "(120, 5)\n",
      "(30, 5)\n",
      "(120, 1)\n",
      "(30, 1)\n"
     ]
    }
   ],
   "source": [
    "from sklearn.model_selection import train_test_split\n",
    "x1_train, x1_test, y1_train, y1_test = train_test_split(norm, Y, test_size = 0.2, random_state=0)\n",
    "print(x1_train.shape)\n",
    "print(x1_test.shape)\n",
    "print(y1_train.shape)\n",
    "print(y1_test.shape)\n"
   ]
  },
  {
   "cell_type": "code",
   "execution_count": 16,
   "metadata": {},
   "outputs": [
    {
     "name": "stderr",
     "output_type": "stream",
     "text": [
      "C:\\Users\\Admin\\Anaconda3\\lib\\site-packages\\ipykernel_launcher.py:3: DataConversionWarning: A column-vector y was passed when a 1d array was expected. Please change the shape of y to (n_samples, ), for example using ravel().\n",
      "  This is separate from the ipykernel package so we can avoid doing imports until\n"
     ]
    },
    {
     "data": {
      "text/plain": [
       "KNeighborsClassifier(algorithm='auto', leaf_size=30, metric='minkowski',\n",
       "                     metric_params=None, n_jobs=None, n_neighbors=5, p=2,\n",
       "                     weights='uniform')"
      ]
     },
     "execution_count": 16,
     "metadata": {},
     "output_type": "execute_result"
    }
   ],
   "source": [
    "from sklearn.neighbors import KNeighborsClassifier\n",
    "classifier1=KNeighborsClassifier(n_neighbors=5)\n",
    "classifier1.fit(x1_train,y1_train)"
   ]
  },
  {
   "cell_type": "code",
   "execution_count": 17,
   "metadata": {},
   "outputs": [],
   "source": [
    "#make  prediction for test data\n",
    "y1_pred=classifier1.predict(x1_test)"
   ]
  },
  {
   "cell_type": "code",
   "execution_count": 18,
   "metadata": {},
   "outputs": [
    {
     "name": "stdout",
     "output_type": "stream",
     "text": [
      "[[11  0  0]\n",
      " [ 0 13  0]\n",
      " [ 0  0  6]]\n"
     ]
    }
   ],
   "source": [
    "print(confusion_matrix(y1_test,y1_pred))"
   ]
  },
  {
   "cell_type": "code",
   "execution_count": 19,
   "metadata": {},
   "outputs": [
    {
     "name": "stdout",
     "output_type": "stream",
     "text": [
      "Test Accuracy:1.0000\n"
     ]
    }
   ],
   "source": [
    "accur=accuracy_score(y1_test,y1_pred)\n",
    "print(\"Test Accuracy:{:.4f}\".format(accur))"
   ]
  },
  {
   "cell_type": "code",
   "execution_count": 20,
   "metadata": {},
   "outputs": [
    {
     "name": "stderr",
     "output_type": "stream",
     "text": [
      "C:\\Users\\Admin\\Anaconda3\\lib\\site-packages\\ipykernel_launcher.py:6: DataConversionWarning: A column-vector y was passed when a 1d array was expected. Please change the shape of y to (n_samples, ), for example using ravel().\n",
      "  \n"
     ]
    },
    {
     "ename": "ValueError",
     "evalue": "Unable to coerce to Series, length must be 1: given 30",
     "output_type": "error",
     "traceback": [
      "\u001b[1;31m---------------------------------------------------------------------------\u001b[0m",
      "\u001b[1;31mValueError\u001b[0m                                Traceback (most recent call last)",
      "\u001b[1;32m<ipython-input-20-1ee299e07f60>\u001b[0m in \u001b[0;36m<module>\u001b[1;34m\u001b[0m\n\u001b[0;32m      6\u001b[0m     \u001b[0mknn\u001b[0m\u001b[1;33m.\u001b[0m\u001b[0mfit\u001b[0m\u001b[1;33m(\u001b[0m\u001b[0mx1_train\u001b[0m\u001b[1;33m,\u001b[0m\u001b[0my1_train\u001b[0m\u001b[1;33m)\u001b[0m\u001b[1;33m\u001b[0m\u001b[1;33m\u001b[0m\u001b[0m\n\u001b[0;32m      7\u001b[0m     \u001b[0mpred_i\u001b[0m\u001b[1;33m=\u001b[0m\u001b[0mknn\u001b[0m\u001b[1;33m.\u001b[0m\u001b[0mpredict\u001b[0m\u001b[1;33m(\u001b[0m\u001b[0mx1_test\u001b[0m\u001b[1;33m)\u001b[0m\u001b[1;33m\u001b[0m\u001b[1;33m\u001b[0m\u001b[0m\n\u001b[1;32m----> 8\u001b[1;33m     \u001b[0merror\u001b[0m\u001b[1;33m.\u001b[0m\u001b[0mappend\u001b[0m\u001b[1;33m(\u001b[0m\u001b[0mnp\u001b[0m\u001b[1;33m.\u001b[0m\u001b[0mmean\u001b[0m\u001b[1;33m(\u001b[0m\u001b[0mpred_i\u001b[0m \u001b[1;33m!=\u001b[0m\u001b[0my1_test\u001b[0m\u001b[1;33m)\u001b[0m\u001b[1;33m)\u001b[0m\u001b[1;33m\u001b[0m\u001b[1;33m\u001b[0m\u001b[0m\n\u001b[0m\u001b[0;32m      9\u001b[0m \u001b[1;33m\u001b[0m\u001b[0m\n",
      "\u001b[1;32m~\\Anaconda3\\lib\\site-packages\\pandas\\core\\ops\\__init__.py\u001b[0m in \u001b[0;36mf\u001b[1;34m(self, other)\u001b[0m\n\u001b[0;32m   1559\u001b[0m     \u001b[1;32mdef\u001b[0m \u001b[0mf\u001b[0m\u001b[1;33m(\u001b[0m\u001b[0mself\u001b[0m\u001b[1;33m,\u001b[0m \u001b[0mother\u001b[0m\u001b[1;33m)\u001b[0m\u001b[1;33m:\u001b[0m\u001b[1;33m\u001b[0m\u001b[1;33m\u001b[0m\u001b[0m\n\u001b[0;32m   1560\u001b[0m \u001b[1;33m\u001b[0m\u001b[0m\n\u001b[1;32m-> 1561\u001b[1;33m         \u001b[0mother\u001b[0m \u001b[1;33m=\u001b[0m \u001b[0m_align_method_FRAME\u001b[0m\u001b[1;33m(\u001b[0m\u001b[0mself\u001b[0m\u001b[1;33m,\u001b[0m \u001b[0mother\u001b[0m\u001b[1;33m,\u001b[0m \u001b[0maxis\u001b[0m\u001b[1;33m=\u001b[0m\u001b[1;32mNone\u001b[0m\u001b[1;33m)\u001b[0m\u001b[1;33m\u001b[0m\u001b[1;33m\u001b[0m\u001b[0m\n\u001b[0m\u001b[0;32m   1562\u001b[0m \u001b[1;33m\u001b[0m\u001b[0m\n\u001b[0;32m   1563\u001b[0m         \u001b[1;32mif\u001b[0m \u001b[0misinstance\u001b[0m\u001b[1;33m(\u001b[0m\u001b[0mother\u001b[0m\u001b[1;33m,\u001b[0m \u001b[0mABCDataFrame\u001b[0m\u001b[1;33m)\u001b[0m\u001b[1;33m:\u001b[0m\u001b[1;33m\u001b[0m\u001b[1;33m\u001b[0m\u001b[0m\n",
      "\u001b[1;32m~\\Anaconda3\\lib\\site-packages\\pandas\\core\\ops\\__init__.py\u001b[0m in \u001b[0;36m_align_method_FRAME\u001b[1;34m(left, right, axis)\u001b[0m\n\u001b[0;32m   1425\u001b[0m \u001b[1;33m\u001b[0m\u001b[0m\n\u001b[0;32m   1426\u001b[0m         \u001b[1;32mif\u001b[0m \u001b[0mright\u001b[0m\u001b[1;33m.\u001b[0m\u001b[0mndim\u001b[0m \u001b[1;33m==\u001b[0m \u001b[1;36m1\u001b[0m\u001b[1;33m:\u001b[0m\u001b[1;33m\u001b[0m\u001b[1;33m\u001b[0m\u001b[0m\n\u001b[1;32m-> 1427\u001b[1;33m             \u001b[0mright\u001b[0m \u001b[1;33m=\u001b[0m \u001b[0mto_series\u001b[0m\u001b[1;33m(\u001b[0m\u001b[0mright\u001b[0m\u001b[1;33m)\u001b[0m\u001b[1;33m\u001b[0m\u001b[1;33m\u001b[0m\u001b[0m\n\u001b[0m\u001b[0;32m   1428\u001b[0m \u001b[1;33m\u001b[0m\u001b[0m\n\u001b[0;32m   1429\u001b[0m         \u001b[1;32melif\u001b[0m \u001b[0mright\u001b[0m\u001b[1;33m.\u001b[0m\u001b[0mndim\u001b[0m \u001b[1;33m==\u001b[0m \u001b[1;36m2\u001b[0m\u001b[1;33m:\u001b[0m\u001b[1;33m\u001b[0m\u001b[1;33m\u001b[0m\u001b[0m\n",
      "\u001b[1;32m~\\Anaconda3\\lib\\site-packages\\pandas\\core\\ops\\__init__.py\u001b[0m in \u001b[0;36mto_series\u001b[1;34m(right)\u001b[0m\n\u001b[0;32m   1417\u001b[0m             \u001b[1;32mif\u001b[0m \u001b[0mlen\u001b[0m\u001b[1;33m(\u001b[0m\u001b[0mleft\u001b[0m\u001b[1;33m.\u001b[0m\u001b[0mcolumns\u001b[0m\u001b[1;33m)\u001b[0m \u001b[1;33m!=\u001b[0m \u001b[0mlen\u001b[0m\u001b[1;33m(\u001b[0m\u001b[0mright\u001b[0m\u001b[1;33m)\u001b[0m\u001b[1;33m:\u001b[0m\u001b[1;33m\u001b[0m\u001b[1;33m\u001b[0m\u001b[0m\n\u001b[0;32m   1418\u001b[0m                 raise ValueError(\n\u001b[1;32m-> 1419\u001b[1;33m                     \u001b[0mmsg\u001b[0m\u001b[1;33m.\u001b[0m\u001b[0mformat\u001b[0m\u001b[1;33m(\u001b[0m\u001b[0mreq_len\u001b[0m\u001b[1;33m=\u001b[0m\u001b[0mlen\u001b[0m\u001b[1;33m(\u001b[0m\u001b[0mleft\u001b[0m\u001b[1;33m.\u001b[0m\u001b[0mcolumns\u001b[0m\u001b[1;33m)\u001b[0m\u001b[1;33m,\u001b[0m \u001b[0mgiven_len\u001b[0m\u001b[1;33m=\u001b[0m\u001b[0mlen\u001b[0m\u001b[1;33m(\u001b[0m\u001b[0mright\u001b[0m\u001b[1;33m)\u001b[0m\u001b[1;33m)\u001b[0m\u001b[1;33m\u001b[0m\u001b[1;33m\u001b[0m\u001b[0m\n\u001b[0m\u001b[0;32m   1420\u001b[0m                 )\n\u001b[0;32m   1421\u001b[0m             \u001b[0mright\u001b[0m \u001b[1;33m=\u001b[0m \u001b[0mleft\u001b[0m\u001b[1;33m.\u001b[0m\u001b[0m_constructor_sliced\u001b[0m\u001b[1;33m(\u001b[0m\u001b[0mright\u001b[0m\u001b[1;33m,\u001b[0m \u001b[0mindex\u001b[0m\u001b[1;33m=\u001b[0m\u001b[0mleft\u001b[0m\u001b[1;33m.\u001b[0m\u001b[0mcolumns\u001b[0m\u001b[1;33m)\u001b[0m\u001b[1;33m\u001b[0m\u001b[1;33m\u001b[0m\u001b[0m\n",
      "\u001b[1;31mValueError\u001b[0m: Unable to coerce to Series, length must be 1: given 30"
     ]
    }
   ],
   "source": [
    "error= []\n",
    "\n",
    "# calculating error for K values between 1 and 40\n",
    "for i in range(1,40):\n",
    "    knn=KNeighborsClassifier(n_neighbors=i)\n",
    "    knn.fit(x1_train,y1_train)\n",
    "    pred_i=knn.predict(x1_test)\n",
    "    error.append(np.mean(pred_i !=y1_test))\n",
    "    "
   ]
  },
  {
   "cell_type": "code",
   "execution_count": null,
   "metadata": {},
   "outputs": [],
   "source": [
    "plt.figure(figsize=(12, 6))\n",
    "plt.plot(range(1, 40), error, color='red', linestyle='dashed', marker='o',\n",
    "         markerfacecolor='blue', markersize=10)\n",
    "plt.title('Error Rate K Value')\n",
    "plt.xlabel('K Value')\n",
    "plt.ylabel('Mean Error')"
   ]
  },
  {
   "cell_type": "code",
   "execution_count": null,
   "metadata": {},
   "outputs": [],
   "source": []
  }
 ],
 "metadata": {
  "kernelspec": {
   "display_name": "Python 3",
   "language": "python",
   "name": "python3"
  },
  "language_info": {
   "codemirror_mode": {
    "name": "ipython",
    "version": 3
   },
   "file_extension": ".py",
   "mimetype": "text/x-python",
   "name": "python",
   "nbconvert_exporter": "python",
   "pygments_lexer": "ipython3",
   "version": "3.7.4"
  }
 },
 "nbformat": 4,
 "nbformat_minor": 2
}
